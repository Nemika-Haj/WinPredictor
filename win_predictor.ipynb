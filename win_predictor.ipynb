{
 "cells": [
  {
   "cell_type": "code",
   "execution_count": 1,
   "id": "945692de",
   "metadata": {},
   "outputs": [
    {
     "name": "stdout",
     "output_type": "stream",
     "text": [
      "[PhysicalDevice(name='/physical_device:GPU:0', device_type='GPU')]\n"
     ]
    }
   ],
   "source": [
    "import tensorflow as tf\n",
    "import matplotlib.pyplot as plt\n",
    "import numpy as np\n",
    "import pandas as pd\n",
    "from tensorflow import keras\n",
    "from tensorflow.keras import layers\n",
    "from tensorflow.keras import optimizers\n",
    "from tensorflow.keras import losses\n",
    "print(tf.config.list_physical_devices('GPU'))"
   ]
  },
  {
   "cell_type": "code",
   "execution_count": 21,
   "id": "0397f3eb",
   "metadata": {},
   "outputs": [],
   "source": [
    "# Constants\n",
    "NUM_GAMES = 1000\n",
    "BATCH_SIZE = 32\n",
    "LR = 1e-3"
   ]
  },
  {
   "cell_type": "code",
   "execution_count": 22,
   "id": "047bc5a9",
   "metadata": {},
   "outputs": [],
   "source": [
    "df = pd.read_csv('champions.csv')\n",
    "def get_champ_vec(champ_name):\n",
    "    arr = []\n",
    "    row = df.loc[df['Champion'] == champ_name].iloc[0]\n",
    "    for i in range(1, 16):\n",
    "        if i == 7:\n",
    "            if row[i] == 1:\n",
    "                arr.append(1)\n",
    "                arr.append(0)\n",
    "                arr.append(0)\n",
    "            elif row[i] == 2:\n",
    "                arr.append(0)\n",
    "                arr.append(1)\n",
    "                arr.append(0)\n",
    "            elif row[i] == 3:\n",
    "                arr.append(0)\n",
    "                arr.append(0)\n",
    "                arr.append(1)\n",
    "        else:\n",
    "            arr.append(row[i] / 10)\n",
    "    return arr"
   ]
  },
  {
   "cell_type": "code",
   "execution_count": 23,
   "id": "d2e786ca",
   "metadata": {},
   "outputs": [],
   "source": [
    "def process_match(match_index):\n",
    "    with open('data/matches/' + str(match_index) + '.txt', 'r') as f:\n",
    "        rows = f.read().split('\\n')\n",
    "        vec = []\n",
    "        for j in range(10):\n",
    "            champ_vec = get_champ_vec(rows[j])\n",
    "            for e in champ_vec:\n",
    "                vec.append(e)\n",
    "        if rows[10] == 'true':\n",
    "            vec.append(1)\n",
    "        else:\n",
    "            vec.append(0)\n",
    "        return vec"
   ]
  },
  {
   "cell_type": "code",
   "execution_count": 46,
   "id": "da587725",
   "metadata": {},
   "outputs": [],
   "source": [
    "def process_row(x):\n",
    "    return (tf.cast(x[:-1], 'float32'), tf.cast(x[-1], 'int32'))"
   ]
  },
  {
   "cell_type": "code",
   "execution_count": 47,
   "id": "90f93e69",
   "metadata": {},
   "outputs": [],
   "source": [
    "def get_dataset():\n",
    "    tmp = []\n",
    "    for i in range(NUM_GAMES):\n",
    "        tmp.append(process_match(i))\n",
    "    ds = tf.data.Dataset.from_tensor_slices(tmp)\n",
    "    ds = ds.map(process_row)\n",
    "    ds = ds.cache()\n",
    "    ds = ds.shuffle(NUM_GAMES)\n",
    "    ds = ds.batch(BATCH_SIZE)\n",
    "    ds = ds.prefetch(tf.data.AUTOTUNE)\n",
    "    return ds"
   ]
  },
  {
   "cell_type": "code",
   "execution_count": 48,
   "id": "23a73ecc",
   "metadata": {},
   "outputs": [],
   "source": [
    "ds = get_dataset()"
   ]
  },
  {
   "cell_type": "code",
   "execution_count": 49,
   "id": "cab9bfdd",
   "metadata": {},
   "outputs": [],
   "source": [
    "# Partition Dataset\n",
    "train_size = int(len(ds)*0.7)\n",
    "val_size = int(len(ds)*0.2)\n",
    "test_size = int(len(ds)*0.1)\n",
    "\n",
    "train = ds.take(train_size)\n",
    "val = ds.skip(train_size).take(val_size)\n",
    "test = ds.skip(train_size+val_size).take(test_size)"
   ]
  },
  {
   "cell_type": "code",
   "execution_count": 67,
   "id": "a19b79f9",
   "metadata": {},
   "outputs": [],
   "source": [
    "def create_model():\n",
    "    model = keras.Sequential()\n",
    "    model.add(layers.Dense(170, activation='relu', input_dim=170))\n",
    "    model.add(layers.Dense(64, activation='relu'))\n",
    "    model.add(layers.Dense(16, activation='relu'))\n",
    "    model.add(layers.Dense(1))\n",
    "    return model"
   ]
  },
  {
   "cell_type": "code",
   "execution_count": 68,
   "id": "690fbae5",
   "metadata": {},
   "outputs": [],
   "source": [
    "model = create_model()"
   ]
  },
  {
   "cell_type": "code",
   "execution_count": 69,
   "id": "67e1953a",
   "metadata": {},
   "outputs": [
    {
     "name": "stdout",
     "output_type": "stream",
     "text": [
      "Model: \"sequential_3\"\n",
      "_________________________________________________________________\n",
      " Layer (type)                Output Shape              Param #   \n",
      "=================================================================\n",
      " dense_12 (Dense)            (None, 170)               29070     \n",
      "                                                                 \n",
      " dense_13 (Dense)            (None, 64)                10944     \n",
      "                                                                 \n",
      " dense_14 (Dense)            (None, 16)                1040      \n",
      "                                                                 \n",
      " dense_15 (Dense)            (None, 1)                 17        \n",
      "                                                                 \n",
      "=================================================================\n",
      "Total params: 41,071\n",
      "Trainable params: 41,071\n",
      "Non-trainable params: 0\n",
      "_________________________________________________________________\n"
     ]
    }
   ],
   "source": [
    "model.summary()"
   ]
  },
  {
   "cell_type": "code",
   "execution_count": 70,
   "id": "b5cf7424",
   "metadata": {},
   "outputs": [],
   "source": [
    "loss = losses.BinaryCrossentropy(from_logits=True)\n",
    "optimizer = optimizers.Adam(learning_rate=LR)"
   ]
  },
  {
   "cell_type": "code",
   "execution_count": 71,
   "id": "95951822",
   "metadata": {},
   "outputs": [],
   "source": [
    "model.compile(loss=loss, optimizer=optimizer, metrics=[tf.metrics.BinaryAccuracy(threshold=0.0)])"
   ]
  },
  {
   "cell_type": "code",
   "execution_count": 72,
   "id": "daff853a",
   "metadata": {},
   "outputs": [
    {
     "name": "stdout",
     "output_type": "stream",
     "text": [
      "Epoch 1/20\n",
      "22/22 [==============================] - 1s 28ms/step - loss: nan - binary_accuracy: 0.5185 - val_loss: nan - val_binary_accuracy: 0.4531\n",
      "Epoch 2/20\n",
      "22/22 [==============================] - 0s 16ms/step - loss: nan - binary_accuracy: 0.5000 - val_loss: nan - val_binary_accuracy: 0.5052\n",
      "Epoch 3/20\n",
      "22/22 [==============================] - 0s 11ms/step - loss: nan - binary_accuracy: 0.5099 - val_loss: nan - val_binary_accuracy: 0.5260\n",
      "Epoch 4/20\n",
      "22/22 [==============================] - 0s 11ms/step - loss: nan - binary_accuracy: 0.5000 - val_loss: nan - val_binary_accuracy: 0.4792\n",
      "Epoch 5/20\n",
      "22/22 [==============================] - 0s 11ms/step - loss: nan - binary_accuracy: 0.5085 - val_loss: nan - val_binary_accuracy: 0.4740\n",
      "Epoch 6/20\n",
      "22/22 [==============================] - 0s 11ms/step - loss: nan - binary_accuracy: 0.5114 - val_loss: nan - val_binary_accuracy: 0.4948\n",
      "Epoch 7/20\n",
      "22/22 [==============================] - 0s 11ms/step - loss: nan - binary_accuracy: 0.5057 - val_loss: nan - val_binary_accuracy: 0.4688\n",
      "Epoch 8/20\n",
      "22/22 [==============================] - 0s 11ms/step - loss: nan - binary_accuracy: 0.5000 - val_loss: nan - val_binary_accuracy: 0.5104\n",
      "Epoch 9/20\n",
      "22/22 [==============================] - 0s 11ms/step - loss: nan - binary_accuracy: 0.4901 - val_loss: nan - val_binary_accuracy: 0.5365\n",
      "Epoch 10/20\n",
      "22/22 [==============================] - 0s 11ms/step - loss: nan - binary_accuracy: 0.5000 - val_loss: nan - val_binary_accuracy: 0.4531\n",
      "Epoch 11/20\n",
      "22/22 [==============================] - 0s 11ms/step - loss: nan - binary_accuracy: 0.5057 - val_loss: nan - val_binary_accuracy: 0.5052\n",
      "Epoch 12/20\n",
      "22/22 [==============================] - 0s 13ms/step - loss: nan - binary_accuracy: 0.5156 - val_loss: nan - val_binary_accuracy: 0.5417\n",
      "Epoch 13/20\n",
      "22/22 [==============================] - 0s 4ms/step - loss: nan - binary_accuracy: 0.5043 - val_loss: nan - val_binary_accuracy: 0.4635\n",
      "Epoch 14/20\n",
      "22/22 [==============================] - 0s 4ms/step - loss: nan - binary_accuracy: 0.4972 - val_loss: nan - val_binary_accuracy: 0.5469\n",
      "Epoch 15/20\n",
      "22/22 [==============================] - 0s 4ms/step - loss: nan - binary_accuracy: 0.5142 - val_loss: nan - val_binary_accuracy: 0.4844\n",
      "Epoch 16/20\n",
      "22/22 [==============================] - 0s 4ms/step - loss: nan - binary_accuracy: 0.4943 - val_loss: nan - val_binary_accuracy: 0.5365\n",
      "Epoch 17/20\n",
      "22/22 [==============================] - 0s 4ms/step - loss: nan - binary_accuracy: 0.5000 - val_loss: nan - val_binary_accuracy: 0.5625\n",
      "Epoch 18/20\n",
      "22/22 [==============================] - 0s 4ms/step - loss: nan - binary_accuracy: 0.5043 - val_loss: nan - val_binary_accuracy: 0.4948\n",
      "Epoch 19/20\n",
      "22/22 [==============================] - 0s 4ms/step - loss: nan - binary_accuracy: 0.5099 - val_loss: nan - val_binary_accuracy: 0.4740\n",
      "Epoch 20/20\n",
      "22/22 [==============================] - 0s 4ms/step - loss: nan - binary_accuracy: 0.4815 - val_loss: nan - val_binary_accuracy: 0.4740\n"
     ]
    }
   ],
   "source": [
    "history = model.fit(train, validation_data=val, epochs=20)"
   ]
  },
  {
   "cell_type": "code",
   "execution_count": 63,
   "id": "b9f8ca54",
   "metadata": {},
   "outputs": [],
   "source": [
    "X = next(iter(train))"
   ]
  }
 ],
 "metadata": {
  "kernelspec": {
   "display_name": "Python 3 (ipykernel)",
   "language": "python",
   "name": "python3"
  },
  "language_info": {
   "codemirror_mode": {
    "name": "ipython",
    "version": 3
   },
   "file_extension": ".py",
   "mimetype": "text/x-python",
   "name": "python",
   "nbconvert_exporter": "python",
   "pygments_lexer": "ipython3",
   "version": "3.10.9"
  }
 },
 "nbformat": 4,
 "nbformat_minor": 5
}
