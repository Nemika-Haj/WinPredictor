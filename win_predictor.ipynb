{
 "cells": [
  {
   "cell_type": "code",
   "execution_count": 86,
   "id": "945692de",
   "metadata": {},
   "outputs": [
    {
     "name": "stdout",
     "output_type": "stream",
     "text": [
      "[PhysicalDevice(name='/physical_device:GPU:0', device_type='GPU')]\n"
     ]
    }
   ],
   "source": [
    "import tensorflow as tf\n",
    "import matplotlib.pyplot as plt\n",
    "import numpy as np\n",
    "import pandas as pd\n",
    "print(tf.config.list_physical_devices('GPU'))"
   ]
  },
  {
   "cell_type": "code",
   "execution_count": 124,
   "id": "0397f3eb",
   "metadata": {},
   "outputs": [],
   "source": [
    "# Constants\n",
    "NUM_GAMES = 1\n",
    "BATCH_SIZE = 32\n",
    "LR = 1e-3"
   ]
  },
  {
   "cell_type": "code",
   "execution_count": 125,
   "id": "2d6b01a9",
   "metadata": {},
   "outputs": [],
   "source": [
    "df = pd.read_csv('champions.csv')\n",
    "def get_champ_vec(champ_name):\n",
    "    arr = []\n",
    "    row = df.loc[df['Champion'] == champ_name].iloc[0]\n",
    "    for i in range(1, 16):\n",
    "        if i == 7:\n",
    "            if row[i] == 1:\n",
    "                arr.append(1)\n",
    "                arr.append(0)\n",
    "                arr.append(0)\n",
    "            elif row[i] == 2:\n",
    "                arr.append(0)\n",
    "                arr.append(1)\n",
    "                arr.append(0)\n",
    "            elif row[i] == 3:\n",
    "                arr.append(0)\n",
    "                arr.append(0)\n",
    "                arr.append(1)\n",
    "        else:\n",
    "            arr.append(row[i] / 10)\n",
    "    return arr"
   ]
  },
  {
   "cell_type": "code",
   "execution_count": 126,
   "id": "97258553",
   "metadata": {},
   "outputs": [],
   "source": [
    "def process_match(match_index):\n",
    "    with open('data/matches/' + str(match_index) + '.txt', 'r') as f:\n",
    "        rows = f.read().split('\\n')\n",
    "        vec = []\n",
    "        for j in range(10):\n",
    "            champ_vec = get_champ_vec(rows[j])\n",
    "            for e in champ_vec:\n",
    "                vec.append(e)\n",
    "        if rows[10] == 'true':\n",
    "            vec.append(1)\n",
    "        else:\n",
    "            vec.append(0)\n",
    "        return vec"
   ]
  },
  {
   "cell_type": "code",
   "execution_count": 127,
   "id": "007c888e",
   "metadata": {},
   "outputs": [],
   "source": [
    "def process_row(x):\n",
    "    return (tf.cast(x[:-1], 'float32'), tf.cast(x[-1], 'float32'))"
   ]
  },
  {
   "cell_type": "code",
   "execution_count": 128,
   "id": "372c7c73",
   "metadata": {},
   "outputs": [],
   "source": [
    "def get_dataset():\n",
    "    tmp = []\n",
    "    for i in range(NUM_GAMES):\n",
    "        tmp.append(process_match(i))\n",
    "    ds = tf.data.Dataset.from_tensor_slices(tmp)\n",
    "    ds = ds.map(process_row)\n",
    "    ds = ds.cache()\n",
    "    ds = ds.shuffle(NUM_GAMES)\n",
    "    ds = ds.batch(BATCH_SIZE)\n",
    "    ds = ds.prefetch()\n",
    "    return ds"
   ]
  },
  {
   "cell_type": "code",
   "execution_count": 129,
   "id": "83182fb1",
   "metadata": {},
   "outputs": [
    {
     "ename": "TypeError",
     "evalue": "DatasetV2.prefetch() missing 1 required positional argument: 'buffer_size'",
     "output_type": "error",
     "traceback": [
      "\u001b[1;31m---------------------------------------------------------------------------\u001b[0m",
      "\u001b[1;31mTypeError\u001b[0m                                 Traceback (most recent call last)",
      "Cell \u001b[1;32mIn[129], line 1\u001b[0m\n\u001b[1;32m----> 1\u001b[0m ds \u001b[38;5;241m=\u001b[39m \u001b[43mget_dataset\u001b[49m\u001b[43m(\u001b[49m\u001b[43m)\u001b[49m\n",
      "Cell \u001b[1;32mIn[128], line 10\u001b[0m, in \u001b[0;36mget_dataset\u001b[1;34m()\u001b[0m\n\u001b[0;32m      8\u001b[0m ds \u001b[38;5;241m=\u001b[39m ds\u001b[38;5;241m.\u001b[39mshuffle(NUM_GAMES)\n\u001b[0;32m      9\u001b[0m ds \u001b[38;5;241m=\u001b[39m ds\u001b[38;5;241m.\u001b[39mbatch(BATCH_SIZE)\n\u001b[1;32m---> 10\u001b[0m ds \u001b[38;5;241m=\u001b[39m \u001b[43mds\u001b[49m\u001b[38;5;241;43m.\u001b[39;49m\u001b[43mprefetch\u001b[49m\u001b[43m(\u001b[49m\u001b[43m)\u001b[49m\n\u001b[0;32m     11\u001b[0m \u001b[38;5;28;01mreturn\u001b[39;00m ds\n",
      "\u001b[1;31mTypeError\u001b[0m: DatasetV2.prefetch() missing 1 required positional argument: 'buffer_size'"
     ]
    }
   ],
   "source": [
    "ds = get_dataset()"
   ]
  },
  {
   "cell_type": "code",
   "execution_count": 123,
   "id": "ddc2d8a4",
   "metadata": {},
   "outputs": [
    {
     "name": "stdout",
     "output_type": "stream",
     "text": [
      "(<tf.Tensor: shape=(170,), dtype=float32, numpy=\n",
      "array([0.7, 0.8, 0.3, 0.7, 0.9, 0.6, 0. , 1. , 0. , 0. , 0. , 0.5, 0.7,\n",
      "       0.2, 0.6, 0.9, 0. , 0.7, 0.8, 0.8, 0.1, 0.7, 0.6, 1. , 0. , 0. ,\n",
      "       0.1, 0.6, 0.7, 0.6, 0.8, 0.8, 0.6, 0.6, 0.4, 1. , 0.2, 0.1, 0.8,\n",
      "       0.5, 0. , 1. , 0. , 0. , 0.1, 0.8, 0.4, 0.3, 0.5, 0. , 0. , 0.1,\n",
      "       0.9, 0.4, 0.9, 0.6, 0.2, 1. , 0. , 0. , 0.4, 0. , 0. , 0.3, 1. ,\n",
      "       0.3, 0. , 0.3, 0.8, 0.8, 0.7, 0.8, 0.6, 0.7, 1. , 0. , 0. , 0. ,\n",
      "       0. , 1. , 0.4, 0.5, 0.8, 0. , 0.7, 0.3, 0.6, 0. , 0.3, 0.6, 0.6,\n",
      "       0. , 0. , 1. , 0. , 0. , 0. , 0.4, 0.2, 0. , 0.8, 0. , 0.5, 0.4,\n",
      "       0. , 0.6, 0.1, 0.4, 1. , 0. , 0. , 0. , 0. , 0.2, 0.1, 0. , 0. ,\n",
      "       0.5, 0. , 0.5, 0.1, 0.5, 0.9, 0.4, 0.5, 1. , 0. , 0. , 0. , 0. ,\n",
      "       0.8, 0.6, 0. , 0.6, 0.5, 0.3, 0.9, 0.5, 0.5, 0.8, 0.4, 0. , 0. ,\n",
      "       1. , 0. , 0. , 0.6, 0.8, 0.3, 0. , 0.9, 0.4, 0. , 0.5, 0.8, 0.6,\n",
      "       0.8, 0.2, 0.8, 1. , 0. , 0. , 0. , 0.2, 0.8, 0.4, 0.4, 0.7, 0.2,\n",
      "       0.2], dtype=float32)>, <tf.Tensor: shape=(), dtype=float32, numpy=1.0>)\n"
     ]
    }
   ],
   "source": [
    "for i in ds:\n",
    "    print(i)"
   ]
  }
 ],
 "metadata": {
  "kernelspec": {
   "display_name": "Python 3 (ipykernel)",
   "language": "python",
   "name": "python3"
  },
  "language_info": {
   "codemirror_mode": {
    "name": "ipython",
    "version": 3
   },
   "file_extension": ".py",
   "mimetype": "text/x-python",
   "name": "python",
   "nbconvert_exporter": "python",
   "pygments_lexer": "ipython3",
   "version": "3.10.9"
  }
 },
 "nbformat": 4,
 "nbformat_minor": 5
}
