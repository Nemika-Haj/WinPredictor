{
 "cells": [
  {
   "cell_type": "code",
   "execution_count": 11,
   "id": "945692de",
   "metadata": {},
   "outputs": [
    {
     "name": "stdout",
     "output_type": "stream",
     "text": [
      "[PhysicalDevice(name='/physical_device:GPU:0', device_type='GPU')]\n"
     ]
    }
   ],
   "source": [
    "import tensorflow as tf\n",
    "import matplotlib.pyplot as plt\n",
    "import numpy as np\n",
    "import pandas as pd\n",
    "from tensorflow import keras\n",
    "from tensorflow.keras import layers\n",
    "from tensorflow.keras import optimizers\n",
    "print(tf.config.list_physical_devices('GPU'))"
   ]
  },
  {
   "cell_type": "code",
   "execution_count": 63,
   "id": "0397f3eb",
   "metadata": {},
   "outputs": [],
   "source": [
    "# Constants\n",
    "NUM_GAMES = 10\n",
    "BATCH_SIZE = 32\n",
    "LR = 1e-3"
   ]
  },
  {
   "cell_type": "code",
   "execution_count": 64,
   "id": "047bc5a9",
   "metadata": {},
   "outputs": [],
   "source": [
    "df = pd.read_csv('champions.csv')\n",
    "def get_champ_vec(champ_name):\n",
    "    arr = []\n",
    "    row = df.loc[df['Champion'] == champ_name].iloc[0]\n",
    "    for i in range(1, 16):\n",
    "        if i == 7:\n",
    "            if row[i] == 1:\n",
    "                arr.append(1)\n",
    "                arr.append(0)\n",
    "                arr.append(0)\n",
    "            elif row[i] == 2:\n",
    "                arr.append(0)\n",
    "                arr.append(1)\n",
    "                arr.append(0)\n",
    "            elif row[i] == 3:\n",
    "                arr.append(0)\n",
    "                arr.append(0)\n",
    "                arr.append(1)\n",
    "        else:\n",
    "            arr.append(row[i] / 10)\n",
    "    return arr"
   ]
  },
  {
   "cell_type": "code",
   "execution_count": 65,
   "id": "d2e786ca",
   "metadata": {},
   "outputs": [],
   "source": [
    "def process_match(match_index):\n",
    "    with open('data/matches/' + str(match_index) + '.txt', 'r') as f:\n",
    "        rows = f.read().split('\\n')\n",
    "        vec = []\n",
    "        for j in range(10):\n",
    "            champ_vec = get_champ_vec(rows[j])\n",
    "            for e in champ_vec:\n",
    "                vec.append(e)\n",
    "        if rows[10] == 'true':\n",
    "            vec.append(1)\n",
    "        else:\n",
    "            vec.append(0)\n",
    "        return vec"
   ]
  },
  {
   "cell_type": "code",
   "execution_count": 66,
   "id": "da587725",
   "metadata": {},
   "outputs": [],
   "source": [
    "def process_row(x):\n",
    "    return (tf.cast(x[:-1], 'float32'), tf.cast(x[-1], 'float32'))"
   ]
  },
  {
   "cell_type": "code",
   "execution_count": 96,
   "id": "90f93e69",
   "metadata": {},
   "outputs": [],
   "source": [
    "def get_dataset():\n",
    "    tmp = []\n",
    "    for i in range(NUM_GAMES):\n",
    "        tmp.append(process_match(i))\n",
    "    print(tmp[0])\n",
    "    ds = tf.data.Dataset.from_tensor_slices(tmp)\n",
    "    ds = ds.map(process_row)\n",
    "    ds = ds.cache()\n",
    "    ds = ds.batch(BATCH_SIZE)\n",
    "    ds = ds.prefetch(tf.data.AUTOTUNE)\n",
    "    return ds"
   ]
  },
  {
   "cell_type": "code",
   "execution_count": 97,
   "id": "23a73ecc",
   "metadata": {},
   "outputs": [
    {
     "name": "stdout",
     "output_type": "stream",
     "text": [
      "[0.7, 0.8, 0.3, 0.7, 0.9, 0.6, 0, 1, 0, 0.0, 0.0, 0.5, 0.7, 0.2, 0.6, 0.9, 0.0, 0.7, 0.8, 0.8, 0.1, 0.7, 0.6, 1, 0, 0, 0.1, 0.6, 0.7, 0.6, 0.8, 0.8, 0.6, 0.6, 0.4, 1.0, 0.2, 0.1, 0.8, 0.5, 0, 1, 0, 0.0, 0.1, 0.8, 0.4, 0.3, 0.5, 0.0, 0.0, 0.1, 0.9, 0.4, 0.9, 0.6, 0.2, 1, 0, 0, 0.4, 0.0, 0.0, 0.3, 1.0, 0.3, 0.0, 0.3, 0.8, 0.8, 0.7, 0.8, 0.6, 0.7, 1, 0, 0, 0.0, 0.0, 1.0, 0.4, 0.5, 0.8, 0.0, 0.7, 0.3, 0.6, 0.0, 0.3, 0.6, 0.6, 0, 0, 1, 0.0, 0.0, 0.0, 0.4, 0.2, 0.0, 0.8, 0.0, 0.5, 0.4, 0.0, 0.6, 0.1, 0.4, 1, 0, 0, 0.0, 0.0, 0.2, 0.1, 0.0, 0.0, 0.5, 0.0, 0.5, 0.1, 0.5, 0.9, 0.4, 0.5, 1, 0, 0, 0.0, 0.0, 0.8, 0.6, 0.0, 0.6, 0.5, 0.3, 0.9, 0.5, 0.5, 0.8, 0.4, 0.0, 0, 1, 0, 0.0, 0.6, 0.8, 0.3, 0.0, 0.9, 0.4, 0.0, 0.5, 0.8, 0.6, 0.8, 0.2, 0.8, 1, 0, 0, 0.0, 0.2, 0.8, 0.4, 0.4, 0.7, 0.2, 0.2, 1]\n"
     ]
    }
   ],
   "source": [
    "ds = get_dataset()"
   ]
  },
  {
   "cell_type": "code",
   "execution_count": 77,
   "id": "a19b79f9",
   "metadata": {},
   "outputs": [],
   "source": [
    "def create_model():\n",
    "    model = keras.Sequential()\n",
    "    model.add(layers.Dense(170, activation='sigmoid', input_dim=170))\n",
    "    model.add(layers.Dense(64, activation='relu'))\n",
    "    model.add(layers.Dense(16, activation='relu'))\n",
    "    model.add(layers.Dense(1))\n",
    "    return model"
   ]
  },
  {
   "cell_type": "code",
   "execution_count": 78,
   "id": "610922ed",
   "metadata": {},
   "outputs": [],
   "source": [
    "model = create_model()"
   ]
  },
  {
   "cell_type": "code",
   "execution_count": 79,
   "id": "0f435fa1",
   "metadata": {},
   "outputs": [
    {
     "name": "stdout",
     "output_type": "stream",
     "text": [
      "Model: \"sequential_5\"\n",
      "_________________________________________________________________\n",
      " Layer (type)                Output Shape              Param #   \n",
      "=================================================================\n",
      " dense_16 (Dense)            (None, 170)               29070     \n",
      "                                                                 \n",
      " dense_17 (Dense)            (None, 64)                10944     \n",
      "                                                                 \n",
      " dense_18 (Dense)            (None, 16)                1040      \n",
      "                                                                 \n",
      " dense_19 (Dense)            (None, 1)                 17        \n",
      "                                                                 \n",
      "=================================================================\n",
      "Total params: 41,071\n",
      "Trainable params: 41,071\n",
      "Non-trainable params: 0\n",
      "_________________________________________________________________\n"
     ]
    }
   ],
   "source": [
    "model.summary()"
   ]
  },
  {
   "cell_type": "code",
   "execution_count": 98,
   "id": "ab7c7819",
   "metadata": {},
   "outputs": [],
   "source": [
    "X = next(iter(ds))"
   ]
  },
  {
   "cell_type": "code",
   "execution_count": 101,
   "id": "74280613",
   "metadata": {},
   "outputs": [
    {
     "data": {
      "text/plain": [
       "<tf.Tensor: shape=(170,), dtype=float32, numpy=\n",
       "array([0.6, 0.7, 0.8, 0.9, 0.5, 0.6, 0. , 1. , 0. , 0. , 0.6, 1. , 0.4,\n",
       "       0.5, 0.6, 0.4, 0.4, 0.9, 0.2, 1. , 0.6, 0.6, 0.2, 0. , 1. , 0. ,\n",
       "       0. , 0. , 0.9, 0.4, 0.1, 0.9, 0.1, 0. , 0.1, 0.8, 0.6, 0.8, 0.7,\n",
       "       0.5, 0. , 0. , 1. , 0. , 0. , 0. , 0.4, 0.2, 0. , 0. , 0.1, 0.9,\n",
       "       0.9, 0.3, 0.8, 0.7, 0.9, 1. , 0. , 0. , 0. , 0. , 0.9, 0.6, 0.3,\n",
       "       0.2, 0.2, 0.2, 0.4, 0.6, 0. , 1. , 0.5, 0.1, 1. , 0. , 0. , 0. ,\n",
       "       0. , 0.8, 0.7, 0.2, 0.7, 0.6, 0.1, 0.7, 0.8, 0.8, 0.1, 0.7, 0.6,\n",
       "       1. , 0. , 0. , 0.1, 0.6, 0.7, 0.6, 0.8, 0.8, 0.6, 0.6, 0.1, 1. ,\n",
       "       0. , 0.6, 0.9, 0.6, 0. , 1. , 0. , 0.1, 0. , 0. , 0.6, 0. , 0. ,\n",
       "       1. , 0.1, 0.7, 1. , 0.3, 0.7, 0.6, 0.5, 0. , 1. , 0. , 0. , 0.1,\n",
       "       0.7, 0.8, 0.4, 0.5, 0.6, 0.4, 0.1, 0.8, 0. , 0.7, 0.8, 0.7, 1. ,\n",
       "       0. , 0. , nan, 0. , 0. , 0.7, 0.2, 0.2, 0.1, 0. , 0.5, 0.5, 0. ,\n",
       "       0.5, 0.5, 0.5, 0. , 1. , 0. , 0.1, 0.1, 0.5, 0.5, 0. , 0.1, 0.1,\n",
       "       0.1], dtype=float32)>"
      ]
     },
     "execution_count": 101,
     "metadata": {},
     "output_type": "execute_result"
    }
   ],
   "source": [
    "X[0][1]"
   ]
  },
  {
   "cell_type": "code",
   "execution_count": null,
   "id": "d9539aef",
   "metadata": {},
   "outputs": [],
   "source": []
  }
 ],
 "metadata": {
  "kernelspec": {
   "display_name": "Python 3 (ipykernel)",
   "language": "python",
   "name": "python3"
  },
  "language_info": {
   "codemirror_mode": {
    "name": "ipython",
    "version": 3
   },
   "file_extension": ".py",
   "mimetype": "text/x-python",
   "name": "python",
   "nbconvert_exporter": "python",
   "pygments_lexer": "ipython3",
   "version": "3.10.9"
  }
 },
 "nbformat": 4,
 "nbformat_minor": 5
}
